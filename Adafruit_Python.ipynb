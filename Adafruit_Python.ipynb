{
  "nbformat": 4,
  "nbformat_minor": 0,
  "metadata": {
    "colab": {
      "name": "Adafruit - Python.ipynb",
      "provenance": [],
      "authorship_tag": "ABX9TyPa++EEPfiPFqTn8ObQwEPd",
      "include_colab_link": true
    },
    "kernelspec": {
      "name": "python3",
      "display_name": "Python 3"
    }
  },
  "cells": [
    {
      "cell_type": "markdown",
      "metadata": {
        "id": "view-in-github",
        "colab_type": "text"
      },
      "source": [
        "<a href=\"https://colab.research.google.com/github/diazonic/Arduino-and-Sensors-Interfacing/blob/master/Adafruit_Python.ipynb\" target=\"_parent\"><img src=\"https://colab.research.google.com/assets/colab-badge.svg\" alt=\"Open In Colab\"/></a>"
      ]
    },
    {
      "cell_type": "code",
      "metadata": {
        "id": "67LYqbi7KZ4c",
        "colab_type": "code",
        "colab": {
          "base_uri": "https://localhost:8080/",
          "height": 159
        },
        "outputId": "ee67926d-09dd-446e-85c7-b455f8f90399"
      },
      "source": [
        "!pip install adafruit-io\n",
        "#If Adafruit Library isnt installed"
      ],
      "execution_count": 17,
      "outputs": [
        {
          "output_type": "stream",
          "text": [
            "Requirement already satisfied: adafruit-io in /usr/local/lib/python3.6/dist-packages (2.4.0)\n",
            "Requirement already satisfied: requests in /usr/local/lib/python3.6/dist-packages (from adafruit-io) (2.23.0)\n",
            "Requirement already satisfied: paho-mqtt in /usr/local/lib/python3.6/dist-packages (from adafruit-io) (1.5.0)\n",
            "Requirement already satisfied: idna<3,>=2.5 in /usr/local/lib/python3.6/dist-packages (from requests->adafruit-io) (2.10)\n",
            "Requirement already satisfied: certifi>=2017.4.17 in /usr/local/lib/python3.6/dist-packages (from requests->adafruit-io) (2020.6.20)\n",
            "Requirement already satisfied: urllib3!=1.25.0,!=1.25.1,<1.26,>=1.21.1 in /usr/local/lib/python3.6/dist-packages (from requests->adafruit-io) (1.24.3)\n",
            "Requirement already satisfied: chardet<4,>=3.0.2 in /usr/local/lib/python3.6/dist-packages (from requests->adafruit-io) (3.0.4)\n"
          ],
          "name": "stdout"
        }
      ]
    },
    {
      "cell_type": "code",
      "metadata": {
        "id": "obBhBsrUNfjV",
        "colab_type": "code",
        "colab": {}
      },
      "source": [
        "# https://adafruit-io-python-client.readthedocs.io/en/latest/data.html\n",
        "x = 'Diazonic' # AIO-Username\n",
        "y= 'bb69d720de4446128cbbf7bcae1531a4' #AIO-Key"
      ],
      "execution_count": 18,
      "outputs": []
    },
    {
      "cell_type": "code",
      "metadata": {
        "id": "fipl_UZ1Nhwf",
        "colab_type": "code",
        "colab": {}
      },
      "source": [
        "# Creating a feed\n",
        "\n",
        "from Adafruit_IO import Client, Feed\n",
        "aio = Client(x,y)\n",
        "\n",
        "# Create Feed object with name 'Foo'.\n",
        "feed = Feed(name='li')\n",
        "\n",
        "# Send the Feed to IO to create.\n",
        "# The returned object will contain all the details about the created feed.\n",
        "result = aio.create_feed(feed)"
      ],
      "execution_count": 20,
      "outputs": []
    },
    {
      "cell_type": "code",
      "metadata": {
        "id": "1TZ4pehJKypp",
        "colab_type": "code",
        "colab": {}
      },
      "source": [
        "#Sending value to a Feed\n",
        "from Adafruit_IO import Client, Data\n",
        "aio = Client(x,y)\n",
        "\n",
        "# Create a data item with value 10 in the 'Test' feed.\n",
        "data = Data(value=20)\n",
        "data_send = aio.create_data('light', data)"
      ],
      "execution_count": 21,
      "outputs": []
    },
    {
      "cell_type": "code",
      "metadata": {
        "id": "S8gCjw8vTc6A",
        "colab_type": "code",
        "colab": {
          "base_uri": "https://localhost:8080/",
          "height": 35
        },
        "outputId": "16a2cd11-f9d1-4f15-8f84-e950ca9a0f4d"
      },
      "source": [
        "data_send.id"
      ],
      "execution_count": 22,
      "outputs": [
        {
          "output_type": "execute_result",
          "data": {
            "application/vnd.google.colaboratory.intrinsic+json": {
              "type": "string"
            },
            "text/plain": [
              "'0EH6PE7CTZ9X16ERGK3XR6HTB1'"
            ]
          },
          "metadata": {
            "tags": []
          },
          "execution_count": 22
        }
      ]
    },
    {
      "cell_type": "code",
      "metadata": {
        "id": "9ZfNJ9PsOL0y",
        "colab_type": "code",
        "colab": {
          "base_uri": "https://localhost:8080/",
          "height": 346
        },
        "outputId": "bc79205f-7562-4f38-8304-fdee3a6fe094"
      },
      "source": [
        "# Deleting one value\n",
        "aio.delete('temp',data_send.id)\n"
      ],
      "execution_count": 23,
      "outputs": [
        {
          "output_type": "error",
          "ename": "RequestError",
          "evalue": "ignored",
          "traceback": [
            "\u001b[0;31m---------------------------------------------------------------------------\u001b[0m",
            "\u001b[0;31mRequestError\u001b[0m                              Traceback (most recent call last)",
            "\u001b[0;32m<ipython-input-23-30a9429fda2b>\u001b[0m in \u001b[0;36m<module>\u001b[0;34m()\u001b[0m\n\u001b[1;32m      1\u001b[0m \u001b[0;31m# Deleting one value\u001b[0m\u001b[0;34m\u001b[0m\u001b[0;34m\u001b[0m\u001b[0;34m\u001b[0m\u001b[0m\n\u001b[0;32m----> 2\u001b[0;31m \u001b[0maio\u001b[0m\u001b[0;34m.\u001b[0m\u001b[0mdelete\u001b[0m\u001b[0;34m(\u001b[0m\u001b[0;34m'temp'\u001b[0m\u001b[0;34m,\u001b[0m\u001b[0mdata_send\u001b[0m\u001b[0;34m.\u001b[0m\u001b[0mid\u001b[0m\u001b[0;34m)\u001b[0m\u001b[0;34m\u001b[0m\u001b[0;34m\u001b[0m\u001b[0m\n\u001b[0m",
            "\u001b[0;32m/usr/local/lib/python3.6/dist-packages/Adafruit_IO/client.py\u001b[0m in \u001b[0;36mdelete\u001b[0;34m(self, feed, data_id)\u001b[0m\n\u001b[1;32m    260\u001b[0m         \"\"\"\n\u001b[1;32m    261\u001b[0m         \u001b[0mpath\u001b[0m \u001b[0;34m=\u001b[0m \u001b[0;34m\"feeds/{0}/data/{1}\"\u001b[0m\u001b[0;34m.\u001b[0m\u001b[0mformat\u001b[0m\u001b[0;34m(\u001b[0m\u001b[0mfeed\u001b[0m\u001b[0;34m,\u001b[0m \u001b[0mdata_id\u001b[0m\u001b[0;34m)\u001b[0m\u001b[0;34m\u001b[0m\u001b[0;34m\u001b[0m\u001b[0m\n\u001b[0;32m--> 262\u001b[0;31m         \u001b[0mself\u001b[0m\u001b[0;34m.\u001b[0m\u001b[0m_delete\u001b[0m\u001b[0;34m(\u001b[0m\u001b[0mpath\u001b[0m\u001b[0;34m)\u001b[0m\u001b[0;34m\u001b[0m\u001b[0;34m\u001b[0m\u001b[0m\n\u001b[0m\u001b[1;32m    263\u001b[0m \u001b[0;34m\u001b[0m\u001b[0m\n\u001b[1;32m    264\u001b[0m     \u001b[0;31m# feed functionality.\u001b[0m\u001b[0;34m\u001b[0m\u001b[0;34m\u001b[0m\u001b[0;34m\u001b[0m\u001b[0m\n",
            "\u001b[0;32m/usr/local/lib/python3.6/dist-packages/Adafruit_IO/client.py\u001b[0m in \u001b[0;36m_delete\u001b[0;34m(self, path)\u001b[0m\n\u001b[1;32m    133\u001b[0m                                                           'Content-Type': 'application/json'}),\n\u001b[1;32m    134\u001b[0m                                    proxies=self.proxies)\n\u001b[0;32m--> 135\u001b[0;31m         \u001b[0mself\u001b[0m\u001b[0;34m.\u001b[0m\u001b[0m_handle_error\u001b[0m\u001b[0;34m(\u001b[0m\u001b[0mresponse\u001b[0m\u001b[0;34m)\u001b[0m\u001b[0;34m\u001b[0m\u001b[0;34m\u001b[0m\u001b[0m\n\u001b[0m\u001b[1;32m    136\u001b[0m \u001b[0;34m\u001b[0m\u001b[0m\n\u001b[1;32m    137\u001b[0m     \u001b[0;31m# Data functionality.\u001b[0m\u001b[0;34m\u001b[0m\u001b[0;34m\u001b[0m\u001b[0;34m\u001b[0m\u001b[0m\n",
            "\u001b[0;32m/usr/local/lib/python3.6/dist-packages/Adafruit_IO/client.py\u001b[0m in \u001b[0;36m_handle_error\u001b[0;34m(response)\u001b[0m\n\u001b[1;32m    106\u001b[0m         \u001b[0;31m# Handle all other errors (400 & 500 level HTTP responses)\u001b[0m\u001b[0;34m\u001b[0m\u001b[0;34m\u001b[0m\u001b[0;34m\u001b[0m\u001b[0m\n\u001b[1;32m    107\u001b[0m         \u001b[0;32melif\u001b[0m \u001b[0mresponse\u001b[0m\u001b[0;34m.\u001b[0m\u001b[0mstatus_code\u001b[0m \u001b[0;34m>=\u001b[0m \u001b[0;36m400\u001b[0m\u001b[0;34m:\u001b[0m\u001b[0;34m\u001b[0m\u001b[0;34m\u001b[0m\u001b[0m\n\u001b[0;32m--> 108\u001b[0;31m             \u001b[0;32mraise\u001b[0m \u001b[0mRequestError\u001b[0m\u001b[0;34m(\u001b[0m\u001b[0mresponse\u001b[0m\u001b[0;34m)\u001b[0m\u001b[0;34m\u001b[0m\u001b[0;34m\u001b[0m\u001b[0m\n\u001b[0m\u001b[1;32m    109\u001b[0m         \u001b[0;31m# Else do nothing if there was no error.\u001b[0m\u001b[0;34m\u001b[0m\u001b[0;34m\u001b[0m\u001b[0;34m\u001b[0m\u001b[0m\n\u001b[1;32m    110\u001b[0m \u001b[0;34m\u001b[0m\u001b[0m\n",
            "\u001b[0;31mRequestError\u001b[0m: Adafruit IO request failed: 404 Not Found - not found - API documentation can be found at https://io.adafruit.com/api/docs"
          ]
        }
      ]
    },
    {
      "cell_type": "code",
      "metadata": {
        "id": "zIBlGlJPV_kS",
        "colab_type": "code",
        "colab": {}
      },
      "source": [
        "# For storing all values id. Will be helpful in clearing all values\n",
        "data_send_id = []"
      ],
      "execution_count": null,
      "outputs": []
    },
    {
      "cell_type": "code",
      "metadata": {
        "id": "wOLyRzKrSP6j",
        "colab_type": "code",
        "colab": {
          "base_uri": "https://localhost:8080/",
          "height": 381
        },
        "outputId": "93224d30-a377-4394-cc76-1cf84e8bfa17"
      },
      "source": [
        "#For sending multiple random values and storing the ids\n",
        "from Adafruit_IO import Client, Data\n",
        "import random\n",
        "aio = Client(x,y)\n",
        "\n",
        "# Create a data item with value 10 in the 'Test' feed.\n",
        "for abc in range(10):\n",
        "  data = Data(value=random.randint(1,100))\n",
        "  data_send = aio.create_data('temp', data)\n",
        "  data_send_id.append(data_send.id)\n",
        "data_send_id"
      ],
      "execution_count": null,
      "outputs": [
        {
          "output_type": "execute_result",
          "data": {
            "text/plain": [
              "['0EFYRQ6QJA7TGTSAYJW9N89DBA',\n",
              " '0EFYRQ6S2CR3QG5K0M89PXCJTH',\n",
              " '0EFYRQ6TK81659A3BSH9THQFFB',\n",
              " '0EFYRQ6W5KEWC9N7K1CCFXPSA7',\n",
              " '0EFYRQ6XQ7VPFCTA5QEBAHF5CM',\n",
              " '0EFYRQ6ZGYTDMJZJ6B3XAKHTTT',\n",
              " '0EFYRQ711K9JQ5GQY6N4Q9BCEN',\n",
              " '0EFYRQ72MZCA6BTEE3VV4MVVF0',\n",
              " '0EFYRQ74A5AV45VY6FRAPVQMXN',\n",
              " '0EFYRQ768Z2AVW9N3WCNT700D2',\n",
              " '0EFYRQ8G28TCSGVMY7ZF871GRQ',\n",
              " '0EFYRQ8HKMMP3A1716W7DV0F5K',\n",
              " '0EFYRQ8K4P4BZY641PQHS2KHV6',\n",
              " '0EFYRQ8MW0204NNNMP3A2WA1FK',\n",
              " '0EFYRQ8PF1JJRJDPK2XK7BRRHM',\n",
              " '0EFYRQ8R38X524YX9WJGRJ4FGX',\n",
              " '0EFYRQ8SMVWQCGFBWGPE4QTB2G',\n",
              " '0EFYRQ8V3M13FAF5C58754XVEK',\n",
              " '0EFYRQ8WJAZCNR63GA62606X5X',\n",
              " '0EFYRQ8Y28WNSACC5983RWABNR']"
            ]
          },
          "metadata": {
            "tags": []
          },
          "execution_count": 19
        }
      ]
    },
    {
      "cell_type": "code",
      "metadata": {
        "id": "QavVEJMALJm-",
        "colab_type": "code",
        "colab": {
          "base_uri": "https://localhost:8080/",
          "height": 763
        },
        "outputId": "b547fdc9-c65b-4781-ab49-fbaa288d3e84"
      },
      "source": [
        "from Adafruit_IO import Client\n",
        "aio = Client(x,y)\n",
        "\n",
        "# Get an array of all data from feed 'Test'\n",
        "data = aio.data('temp')\n",
        "\n",
        "# Print out all the results.\n",
        "for d in data:\n",
        "    print(f'Data value: {d.value}')\n",
        "print(f'Total Values: {len(data)}')"
      ],
      "execution_count": null,
      "outputs": [
        {
          "output_type": "stream",
          "text": [
            "Data value: 55\n",
            "Data value: 78\n",
            "Data value: 82\n",
            "Data value: 62\n",
            "Data value: 59\n",
            "Data value: 51\n",
            "Data value: 73\n",
            "Data value: 88\n",
            "Data value: 76\n",
            "Data value: 18\n",
            "Data value: 57\n",
            "Data value: 15\n",
            "Data value: 35\n",
            "Data value: 57\n",
            "Data value: 71\n",
            "Data value: 55\n",
            "Data value: 39\n",
            "Data value: 89\n",
            "Data value: 8\n",
            "Data value: 8\n",
            "Data value: 50\n",
            "Data value: 60\n",
            "Data value: 44\n",
            "Data value: 44\n",
            "Data value: 64\n",
            "Data value: 9\n",
            "Data value: 67\n",
            "Data value: 37\n",
            "Data value: 93\n",
            "Data value: 45\n",
            "Data value: 14\n",
            "Data value: 92\n",
            "Data value: 45\n",
            "Data value: 39\n",
            "Data value: 65\n",
            "Data value: 11\n",
            "Data value: 43\n",
            "Data value: 13\n",
            "Data value: 17\n",
            "Data value: 77\n",
            "Total Values: 40\n"
          ],
          "name": "stdout"
        }
      ]
    },
    {
      "cell_type": "code",
      "metadata": {
        "id": "ttUnW_AST_Mc",
        "colab_type": "code",
        "colab": {}
      },
      "source": [
        "# Deleting all feed values\n",
        "for abc in range(10):\n",
        "  aio.delete('temp',data_send_id[abc])"
      ],
      "execution_count": null,
      "outputs": []
    },
    {
      "cell_type": "code",
      "metadata": {
        "id": "PGntoD1cQ6Ua",
        "colab_type": "code",
        "colab": {}
      },
      "source": [
        "# Deleting the whole feed\n",
        "data = aio.delete_feed('temp')"
      ],
      "execution_count": null,
      "outputs": []
    },
    {
      "cell_type": "markdown",
      "metadata": {
        "id": "NiaXqkJ0O-4l",
        "colab_type": "text"
      },
      "source": [
        "# **Turning ON notification**"
      ]
    },
    {
      "cell_type": "code",
      "metadata": {
        "id": "NGKws-8QXQnx",
        "colab_type": "code",
        "colab": {
          "base_uri": "https://localhost:8080/",
          "height": 35
        },
        "outputId": "35c88113-898f-46fc-be11-ddaae84b01f8"
      },
      "source": [
        "voice = input(\"Enter the command\")"
      ],
      "execution_count": null,
      "outputs": [
        {
          "output_type": "stream",
          "text": [
            "Enter the commandlight off\n"
          ],
          "name": "stdout"
        }
      ]
    },
    {
      "cell_type": "code",
      "metadata": {
        "id": "E87I4sx2XXKt",
        "colab_type": "code",
        "colab": {}
      },
      "source": [
        "if (voice == \"light on\"):\n",
        "  aio.create_data('temp', Data(value=1))\n",
        "elif (voice == \"light off\"):\n",
        "  aio.create_data('temp', Data(value=0))\n",
        "else:\n",
        "  print(\"Didnt Understand\")"
      ],
      "execution_count": null,
      "outputs": []
    },
    {
      "cell_type": "code",
      "metadata": {
        "id": "3YPLLN5YX2mg",
        "colab_type": "code",
        "colab": {
          "base_uri": "https://localhost:8080/",
          "height": 270
        },
        "outputId": "a2d6a175-0572-4b94-d925-b3acc58ac421"
      },
      "source": [
        "import speech_recognition as sr\n",
        "r = sr.Recognizer()\n",
        "with sr.microphone() as source:                # use the default microphone as the audio source\n",
        "    audio = r.listen(source)                   # listen for the first phrase and extract it into audio data\n",
        "\n",
        "try:\n",
        "    print(\"You said \" + r.recognize(audio))    # recognize speech using Google Speech Recognition\n",
        "except LookupError:                            # speech is unintelligible\n",
        "    print(\"Could not understand audio\")"
      ],
      "execution_count": 14,
      "outputs": [
        {
          "output_type": "error",
          "ename": "AttributeError",
          "evalue": "ignored",
          "traceback": [
            "\u001b[0;31m---------------------------------------------------------------------------\u001b[0m",
            "\u001b[0;31mAttributeError\u001b[0m                            Traceback (most recent call last)",
            "\u001b[0;32m<ipython-input-14-8ffa737ff283>\u001b[0m in \u001b[0;36m<module>\u001b[0;34m()\u001b[0m\n\u001b[1;32m      1\u001b[0m \u001b[0;32mimport\u001b[0m \u001b[0mspeech_recognition\u001b[0m \u001b[0;32mas\u001b[0m \u001b[0msr\u001b[0m\u001b[0;34m\u001b[0m\u001b[0;34m\u001b[0m\u001b[0m\n\u001b[1;32m      2\u001b[0m \u001b[0mr\u001b[0m \u001b[0;34m=\u001b[0m \u001b[0msr\u001b[0m\u001b[0;34m.\u001b[0m\u001b[0mRecognizer\u001b[0m\u001b[0;34m(\u001b[0m\u001b[0;34m)\u001b[0m\u001b[0;34m\u001b[0m\u001b[0;34m\u001b[0m\u001b[0m\n\u001b[0;32m----> 3\u001b[0;31m \u001b[0;32mwith\u001b[0m \u001b[0msr\u001b[0m\u001b[0;34m.\u001b[0m\u001b[0mmicrophone\u001b[0m\u001b[0;34m(\u001b[0m\u001b[0;34m)\u001b[0m \u001b[0;32mas\u001b[0m \u001b[0msource\u001b[0m\u001b[0;34m:\u001b[0m                \u001b[0;31m# use the default microphone as the audio source\u001b[0m\u001b[0;34m\u001b[0m\u001b[0;34m\u001b[0m\u001b[0m\n\u001b[0m\u001b[1;32m      4\u001b[0m     \u001b[0maudio\u001b[0m \u001b[0;34m=\u001b[0m \u001b[0mr\u001b[0m\u001b[0;34m.\u001b[0m\u001b[0mlisten\u001b[0m\u001b[0;34m(\u001b[0m\u001b[0msource\u001b[0m\u001b[0;34m)\u001b[0m                   \u001b[0;31m# listen for the first phrase and extract it into audio data\u001b[0m\u001b[0;34m\u001b[0m\u001b[0;34m\u001b[0m\u001b[0m\n\u001b[1;32m      5\u001b[0m \u001b[0;34m\u001b[0m\u001b[0m\n",
            "\u001b[0;31mAttributeError\u001b[0m: module 'speech_recognition' has no attribute 'microphone'"
          ]
        }
      ]
    },
    {
      "cell_type": "code",
      "metadata": {
        "id": "vh8ajjLz22cR",
        "colab_type": "code",
        "colab": {
          "base_uri": "https://localhost:8080/",
          "height": 124
        },
        "outputId": "561a6c24-be35-41a4-e858-72db8f577de2"
      },
      "source": [
        "!pip install SpeechRecognition==1.1.4"
      ],
      "execution_count": 6,
      "outputs": [
        {
          "output_type": "stream",
          "text": [
            "Collecting SpeechRecognition==1.1.4\n",
            "\u001b[?25l  Downloading https://files.pythonhosted.org/packages/1d/a7/ee5d63f4c3c39a5b512e38280c08f9175d4393d078d778b765666339da91/SpeechRecognition-1.1.4-py3-none-any.whl (530kB)\n",
            "\u001b[K     |████████████████████████████████| 532kB 2.7MB/s \n",
            "\u001b[?25hInstalling collected packages: SpeechRecognition\n",
            "Successfully installed SpeechRecognition-1.1.4\n"
          ],
          "name": "stdout"
        }
      ]
    },
    {
      "cell_type": "code",
      "metadata": {
        "id": "BgBQIE5Q26hy",
        "colab_type": "code",
        "colab": {
          "base_uri": "https://localhost:8080/",
          "height": 211
        },
        "outputId": "b280feba-2f8d-4f53-a82c-88e0cfd2cdf2"
      },
      "source": [
        "!pip install pyaudio"
      ],
      "execution_count": 16,
      "outputs": [
        {
          "output_type": "stream",
          "text": [
            "Collecting pyaudio\n",
            "  Using cached https://files.pythonhosted.org/packages/ab/42/b4f04721c5c5bfc196ce156b3c768998ef8c0ae3654ed29ea5020c749a6b/PyAudio-0.2.11.tar.gz\n",
            "Building wheels for collected packages: pyaudio\n",
            "  Building wheel for pyaudio (setup.py) ... \u001b[?25lerror\n",
            "\u001b[31m  ERROR: Failed building wheel for pyaudio\u001b[0m\n",
            "\u001b[?25h  Running setup.py clean for pyaudio\n",
            "Failed to build pyaudio\n",
            "Installing collected packages: pyaudio\n",
            "    Running setup.py install for pyaudio ... \u001b[?25l\u001b[?25herror\n",
            "\u001b[31mERROR: Command errored out with exit status 1: /usr/bin/python3 -u -c 'import sys, setuptools, tokenize; sys.argv[0] = '\"'\"'/tmp/pip-install-b48ux99y/pyaudio/setup.py'\"'\"'; __file__='\"'\"'/tmp/pip-install-b48ux99y/pyaudio/setup.py'\"'\"';f=getattr(tokenize, '\"'\"'open'\"'\"', open)(__file__);code=f.read().replace('\"'\"'\\r\\n'\"'\"', '\"'\"'\\n'\"'\"');f.close();exec(compile(code, __file__, '\"'\"'exec'\"'\"'))' install --record /tmp/pip-record-wfvv_kn5/install-record.txt --single-version-externally-managed --compile Check the logs for full command output.\u001b[0m\n"
          ],
          "name": "stdout"
        }
      ]
    },
    {
      "cell_type": "code",
      "metadata": {
        "id": "tFOS_xlP3oCK",
        "colab_type": "code",
        "colab": {}
      },
      "source": [
        ""
      ],
      "execution_count": null,
      "outputs": []
    },
    {
      "cell_type": "code",
      "metadata": {
        "id": "bY7D7xr70Lme",
        "colab_type": "code",
        "colab": {
          "base_uri": "https://localhost:8080/",
          "height": 280
        },
        "outputId": "82b07180-fbbe-4083-de58-ebfe4e9f4286"
      },
      "source": [
        "!pip install python-telegram-bot"
      ],
      "execution_count": null,
      "outputs": [
        {
          "output_type": "stream",
          "text": [
            "Collecting python-telegram-bot\n",
            "\u001b[?25l  Downloading https://files.pythonhosted.org/packages/a6/2d/c72fc9a28144277f6170f2fcbfd3bd9427943497522b2689846596eb86cf/python_telegram_bot-12.8-py2.py3-none-any.whl (375kB)\n",
            "\r\u001b[K     |▉                               | 10kB 18.9MB/s eta 0:00:01\r\u001b[K     |█▊                              | 20kB 1.6MB/s eta 0:00:01\r\u001b[K     |██▋                             | 30kB 2.2MB/s eta 0:00:01\r\u001b[K     |███▌                            | 40kB 2.5MB/s eta 0:00:01\r\u001b[K     |████▍                           | 51kB 2.1MB/s eta 0:00:01\r\u001b[K     |█████▎                          | 61kB 2.3MB/s eta 0:00:01\r\u001b[K     |██████                          | 71kB 2.6MB/s eta 0:00:01\r\u001b[K     |███████                         | 81kB 2.8MB/s eta 0:00:01\r\u001b[K     |███████▉                        | 92kB 3.0MB/s eta 0:00:01\r\u001b[K     |████████▊                       | 102kB 2.9MB/s eta 0:00:01\r\u001b[K     |█████████▋                      | 112kB 2.9MB/s eta 0:00:01\r\u001b[K     |██████████▌                     | 122kB 2.9MB/s eta 0:00:01\r\u001b[K     |███████████▍                    | 133kB 2.9MB/s eta 0:00:01\r\u001b[K     |████████████▏                   | 143kB 2.9MB/s eta 0:00:01\r\u001b[K     |█████████████                   | 153kB 2.9MB/s eta 0:00:01\r\u001b[K     |██████████████                  | 163kB 2.9MB/s eta 0:00:01\r\u001b[K     |██████████████▉                 | 174kB 2.9MB/s eta 0:00:01\r\u001b[K     |███████████████▊                | 184kB 2.9MB/s eta 0:00:01\r\u001b[K     |████████████████▋               | 194kB 2.9MB/s eta 0:00:01\r\u001b[K     |█████████████████▌              | 204kB 2.9MB/s eta 0:00:01\r\u001b[K     |██████████████████▎             | 215kB 2.9MB/s eta 0:00:01\r\u001b[K     |███████████████████▏            | 225kB 2.9MB/s eta 0:00:01\r\u001b[K     |████████████████████            | 235kB 2.9MB/s eta 0:00:01\r\u001b[K     |█████████████████████           | 245kB 2.9MB/s eta 0:00:01\r\u001b[K     |█████████████████████▉          | 256kB 2.9MB/s eta 0:00:01\r\u001b[K     |██████████████████████▊         | 266kB 2.9MB/s eta 0:00:01\r\u001b[K     |███████████████████████▋        | 276kB 2.9MB/s eta 0:00:01\r\u001b[K     |████████████████████████▍       | 286kB 2.9MB/s eta 0:00:01\r\u001b[K     |█████████████████████████▎      | 296kB 2.9MB/s eta 0:00:01\r\u001b[K     |██████████████████████████▏     | 307kB 2.9MB/s eta 0:00:01\r\u001b[K     |███████████████████████████     | 317kB 2.9MB/s eta 0:00:01\r\u001b[K     |████████████████████████████    | 327kB 2.9MB/s eta 0:00:01\r\u001b[K     |████████████████████████████▉   | 337kB 2.9MB/s eta 0:00:01\r\u001b[K     |█████████████████████████████▊  | 348kB 2.9MB/s eta 0:00:01\r\u001b[K     |██████████████████████████████▌ | 358kB 2.9MB/s eta 0:00:01\r\u001b[K     |███████████████████████████████▍| 368kB 2.9MB/s eta 0:00:01\r\u001b[K     |████████████████████████████████| 378kB 2.9MB/s \n",
            "\u001b[?25hRequirement already satisfied: certifi in /usr/local/lib/python3.6/dist-packages (from python-telegram-bot) (2020.6.20)\n",
            "Collecting cryptography\n",
            "\u001b[?25l  Downloading https://files.pythonhosted.org/packages/ba/91/84a29d6a27fd6dfc21f475704c4d2053d58ed7a4033c2b0ce1b4ca4d03d9/cryptography-3.0-cp35-abi3-manylinux2010_x86_64.whl (2.7MB)\n",
            "\u001b[K     |████████████████████████████████| 2.7MB 9.0MB/s \n",
            "\u001b[?25hRequirement already satisfied: tornado>=5.1 in /usr/local/lib/python3.6/dist-packages (from python-telegram-bot) (5.1.1)\n",
            "Requirement already satisfied: decorator>=4.4.0 in /usr/local/lib/python3.6/dist-packages (from python-telegram-bot) (4.4.2)\n",
            "Requirement already satisfied: cffi!=1.11.3,>=1.8 in /usr/local/lib/python3.6/dist-packages (from cryptography->python-telegram-bot) (1.14.2)\n",
            "Requirement already satisfied: six>=1.4.1 in /usr/local/lib/python3.6/dist-packages (from cryptography->python-telegram-bot) (1.15.0)\n",
            "Requirement already satisfied: pycparser in /usr/local/lib/python3.6/dist-packages (from cffi!=1.11.3,>=1.8->cryptography->python-telegram-bot) (2.20)\n",
            "Installing collected packages: cryptography, python-telegram-bot\n",
            "Successfully installed cryptography-3.0 python-telegram-bot-12.8\n"
          ],
          "name": "stdout"
        }
      ]
    },
    {
      "cell_type": "code",
      "metadata": {
        "id": "aKuSj3nQz289",
        "colab_type": "code",
        "colab": {
          "base_uri": "https://localhost:8080/",
          "height": 55
        },
        "outputId": "d5673ee7-8ce1-4618-84f9-71035829dd6a"
      },
      "source": [
        "\n",
        "\n",
        "from telegram.ext import Updater, CommandHandler\n",
        "\n",
        "\n",
        "def on(bot, update):\n",
        "    chat_id = update.message.chat_id\n",
        "    aio.create_data('light', Data(value=1))\n",
        "    bot.send_message(chat_id=chat_id, text=\"Light is turned On\")\n",
        "\n",
        "def off(bot, update):\n",
        "    chat_id = update.message.chat_id\n",
        "    aio.create_data('light', Data(value=0))\n",
        "    bot.send_message(chat_id=chat_id, text=\"Light is turned Off\")\n",
        "\n",
        "\n",
        "updater = Updater('1399670762:AAFaWQo6_Gmx754-9mzwxiLdwg8xRGfC3Fw')\n",
        "dp = updater.dispatcher\n",
        "dp.add_handler(CommandHandler('on',on))\n",
        "dp.add_handler(CommandHandler('off',off))\n",
        "updater.start_polling()\n",
        "updater.idle()"
      ],
      "execution_count": null,
      "outputs": [
        {
          "output_type": "stream",
          "text": [
            "/usr/local/lib/python3.6/dist-packages/ipykernel_launcher.py:17: TelegramDeprecationWarning: Old Handler API is deprecated - see https://git.io/fxJuV for details\n"
          ],
          "name": "stderr"
        }
      ]
    },
    {
      "cell_type": "code",
      "metadata": {
        "id": "ul-KeOoEz5Nh",
        "colab_type": "code",
        "colab": {
          "base_uri": "https://localhost:8080/",
          "height": 159
        },
        "outputId": "474143fa-5f08-4a6b-83fb-89d9a95dd1b2"
      },
      "source": [
        "!pip install adafruit-io\n",
        "x = 'Diazonic' # AIO-Username\n",
        "y= 'bb69d720de4446128cbbf7bcae1531a4' #AIO-Key\n",
        "from Adafruit_IO import Client, Data\n",
        "aio = Client(x,y)"
      ],
      "execution_count": null,
      "outputs": [
        {
          "output_type": "stream",
          "text": [
            "Requirement already satisfied: adafruit-io in /usr/local/lib/python3.6/dist-packages (2.4.0)\n",
            "Requirement already satisfied: requests in /usr/local/lib/python3.6/dist-packages (from adafruit-io) (2.23.0)\n",
            "Requirement already satisfied: paho-mqtt in /usr/local/lib/python3.6/dist-packages (from adafruit-io) (1.5.0)\n",
            "Requirement already satisfied: certifi>=2017.4.17 in /usr/local/lib/python3.6/dist-packages (from requests->adafruit-io) (2020.6.20)\n",
            "Requirement already satisfied: urllib3!=1.25.0,!=1.25.1,<1.26,>=1.21.1 in /usr/local/lib/python3.6/dist-packages (from requests->adafruit-io) (1.24.3)\n",
            "Requirement already satisfied: idna<3,>=2.5 in /usr/local/lib/python3.6/dist-packages (from requests->adafruit-io) (2.10)\n",
            "Requirement already satisfied: chardet<4,>=3.0.2 in /usr/local/lib/python3.6/dist-packages (from requests->adafruit-io) (3.0.4)\n"
          ],
          "name": "stdout"
        }
      ]
    },
    {
      "cell_type": "code",
      "metadata": {
        "id": "sNRvH5buz9fx",
        "colab_type": "code",
        "colab": {
          "base_uri": "https://localhost:8080/",
          "height": 55
        },
        "outputId": "cb5ccb46-f98a-4b7f-b131-296d26f96f66"
      },
      "source": [
        "from Adafruit_IO import Client, Data\n",
        "aio = Client(x,y)\n",
        "aio.create_data('light', Data(value=1))"
      ],
      "execution_count": null,
      "outputs": [
        {
          "output_type": "execute_result",
          "data": {
            "text/plain": [
              "Data(created_epoch=1598446127, created_at='2020-08-26T12:48:47Z', updated_at=None, value='1', completed_at=None, feed_id=1433825, expiration='2020-09-25T12:48:47Z', position=None, id='0EH6P25QZJ8FGZ7FTYTVS9VV1N', lat=None, lon=None, ele=None)"
            ]
          },
          "metadata": {
            "tags": []
          },
          "execution_count": 4
        }
      ]
    },
    {
      "cell_type": "code",
      "metadata": {
        "id": "tN1tKKui5UH7",
        "colab_type": "code",
        "colab": {}
      },
      "source": [
        ""
      ],
      "execution_count": null,
      "outputs": []
    },
    {
      "cell_type": "code",
      "metadata": {
        "id": "-oD1Rtv9aACY",
        "colab_type": "code",
        "colab": {
          "base_uri": "https://localhost:8080/",
          "height": 505
        },
        "outputId": "941e6c25-ca1f-46bf-ca71-f36a9798a779"
      },
      "source": [
        "!pip install python-telegram-bot\n",
        "!pip install -U ipykernel"
      ],
      "execution_count": 1,
      "outputs": [
        {
          "output_type": "stream",
          "text": [
            "Requirement already satisfied: python-telegram-bot in /usr/local/lib/python3.6/dist-packages (12.8)\n",
            "Requirement already satisfied: certifi in /usr/local/lib/python3.6/dist-packages (from python-telegram-bot) (2020.6.20)\n",
            "Requirement already satisfied: cryptography in /usr/local/lib/python3.6/dist-packages (from python-telegram-bot) (3.0)\n",
            "Requirement already satisfied: decorator>=4.4.0 in /usr/local/lib/python3.6/dist-packages (from python-telegram-bot) (4.4.2)\n",
            "Requirement already satisfied: tornado>=5.1 in /usr/local/lib/python3.6/dist-packages (from python-telegram-bot) (5.1.1)\n",
            "Requirement already satisfied: cffi!=1.11.3,>=1.8 in /usr/local/lib/python3.6/dist-packages (from cryptography->python-telegram-bot) (1.14.2)\n",
            "Requirement already satisfied: six>=1.4.1 in /usr/local/lib/python3.6/dist-packages (from cryptography->python-telegram-bot) (1.15.0)\n",
            "Requirement already satisfied: pycparser in /usr/local/lib/python3.6/dist-packages (from cffi!=1.11.3,>=1.8->cryptography->python-telegram-bot) (2.20)\n",
            "Requirement already up-to-date: ipykernel in /usr/local/lib/python3.6/dist-packages (5.3.4)\n",
            "Requirement already satisfied, skipping upgrade: traitlets>=4.1.0 in /usr/local/lib/python3.6/dist-packages (from ipykernel) (4.3.3)\n",
            "Requirement already satisfied, skipping upgrade: jupyter-client in /usr/local/lib/python3.6/dist-packages (from ipykernel) (5.3.5)\n",
            "Requirement already satisfied, skipping upgrade: tornado>=4.2 in /usr/local/lib/python3.6/dist-packages (from ipykernel) (5.1.1)\n",
            "Requirement already satisfied, skipping upgrade: ipython>=5.0.0 in /usr/local/lib/python3.6/dist-packages (from ipykernel) (5.5.0)\n",
            "Requirement already satisfied, skipping upgrade: ipython-genutils in /usr/local/lib/python3.6/dist-packages (from traitlets>=4.1.0->ipykernel) (0.2.0)\n",
            "Requirement already satisfied, skipping upgrade: six in /usr/local/lib/python3.6/dist-packages (from traitlets>=4.1.0->ipykernel) (1.15.0)\n",
            "Requirement already satisfied, skipping upgrade: decorator in /usr/local/lib/python3.6/dist-packages (from traitlets>=4.1.0->ipykernel) (4.4.2)\n",
            "Requirement already satisfied, skipping upgrade: python-dateutil>=2.1 in /usr/local/lib/python3.6/dist-packages (from jupyter-client->ipykernel) (2.8.1)\n",
            "Requirement already satisfied, skipping upgrade: pyzmq>=13 in /usr/local/lib/python3.6/dist-packages (from jupyter-client->ipykernel) (19.0.2)\n",
            "Requirement already satisfied, skipping upgrade: jupyter-core>=4.6.0 in /usr/local/lib/python3.6/dist-packages (from jupyter-client->ipykernel) (4.6.3)\n",
            "Requirement already satisfied, skipping upgrade: setuptools>=18.5 in /usr/local/lib/python3.6/dist-packages (from ipython>=5.0.0->ipykernel) (49.6.0)\n",
            "Requirement already satisfied, skipping upgrade: pygments in /usr/local/lib/python3.6/dist-packages (from ipython>=5.0.0->ipykernel) (2.1.3)\n",
            "Requirement already satisfied, skipping upgrade: simplegeneric>0.8 in /usr/local/lib/python3.6/dist-packages (from ipython>=5.0.0->ipykernel) (0.8.1)\n",
            "Requirement already satisfied, skipping upgrade: pexpect; sys_platform != \"win32\" in /usr/local/lib/python3.6/dist-packages (from ipython>=5.0.0->ipykernel) (4.8.0)\n",
            "Requirement already satisfied, skipping upgrade: pickleshare in /usr/local/lib/python3.6/dist-packages (from ipython>=5.0.0->ipykernel) (0.7.5)\n",
            "Requirement already satisfied, skipping upgrade: prompt-toolkit<2.0.0,>=1.0.4 in /usr/local/lib/python3.6/dist-packages (from ipython>=5.0.0->ipykernel) (1.0.18)\n",
            "Requirement already satisfied, skipping upgrade: ptyprocess>=0.5 in /usr/local/lib/python3.6/dist-packages (from pexpect; sys_platform != \"win32\"->ipython>=5.0.0->ipykernel) (0.6.0)\n",
            "Requirement already satisfied, skipping upgrade: wcwidth in /usr/local/lib/python3.6/dist-packages (from prompt-toolkit<2.0.0,>=1.0.4->ipython>=5.0.0->ipykernel) (0.2.5)\n"
          ],
          "name": "stdout"
        }
      ]
    },
    {
      "cell_type": "code",
      "metadata": {
        "id": "wi92kQjiZ18q",
        "colab_type": "code",
        "colab": {
          "base_uri": "https://localhost:8080/",
          "height": 55
        },
        "outputId": "49d65972-c32a-45d7-e1c8-3efed455b9a0"
      },
      "source": [
        "#https://www.freecodecamp.org/news/learn-to-build-your-first-bot-in-telegram-with-python-4c99526765e4/#:~:text=Save%20the%20file%2C%20name%20it,run%20it%20using%20this%20command.&text=Go%20to%20your%20telegram%20bot,with%20a%20random%20dog%20image.\n",
        "from telegram.ext import Updater, InlineQueryHandler, CommandHandler\n",
        "import requests\n",
        "import re\n",
        "\n",
        "def get_url():\n",
        "    contents = requests.get('https://random.dog/woof.json').json()    \n",
        "    url = contents['url']\n",
        "    return url\n",
        "\n",
        "def bop(bot, update):\n",
        "    url = get_url()\n",
        "    chat_id = update.message.chat_id\n",
        "    bot.send_photo(chat_id=chat_id, photo=url)\n",
        "\n",
        "def main():\n",
        "    updater = Updater('1399670762:AAFaWQo6_Gmx754-9mzwxiLdwg8xRGfC3Fw')\n",
        "    dp = updater.dispatcher\n",
        "    dp.add_handler(CommandHandler('bop',bop))\n",
        "    updater.start_polling()\n",
        "    updater.idle()\n",
        "\n",
        "if __name__ == '__main__':\n",
        "    main()"
      ],
      "execution_count": null,
      "outputs": [
        {
          "output_type": "stream",
          "text": [
            "/usr/local/lib/python3.6/dist-packages/ipykernel_launcher.py:17: TelegramDeprecationWarning: Old Handler API is deprecated - see https://git.io/fxJuV for details\n"
          ],
          "name": "stderr"
        }
      ]
    },
    {
      "cell_type": "code",
      "metadata": {
        "id": "zCAU4sk95bgp",
        "colab_type": "code",
        "colab": {}
      },
      "source": [
        ""
      ],
      "execution_count": null,
      "outputs": []
    }
  ]
}